{
  "nbformat": 4,
  "nbformat_minor": 0,
  "metadata": {
    "colab": {
      "provenance": []
    },
    "kernelspec": {
      "name": "python3",
      "display_name": "Python 3"
    },
    "language_info": {
      "name": "python"
    }
  },
  "cells": [
    {
      "cell_type": "markdown",
      "source": [
        "<b>Installing dependencies</b>"
      ],
      "metadata": {
        "id": "cjXnWoiY90XL"
      }
    },
    {
      "cell_type": "code",
      "execution_count": 7,
      "metadata": {
        "colab": {
          "base_uri": "https://localhost:8080/",
          "height": 285
        },
        "id": "yynXWh1qszMO",
        "outputId": "dcb8c938-b653-49f6-f1a7-4f0314040716"
      },
      "outputs": [
        {
          "output_type": "execute_result",
          "data": {
            "text/plain": [
              "   Transaction date  House Age  Distance from nearest Metro station (km)  \\\n",
              "0       2012.916667       32.0                                  84.87882   \n",
              "1       2012.916667       19.5                                 306.59470   \n",
              "2       2013.583333       13.3                                 561.98450   \n",
              "3       2013.500000       13.3                                 561.98450   \n",
              "4       2012.833333        5.0                                 390.56840   \n",
              "\n",
              "   Number of convenience stores  latitude  longitude  Number of bedrooms  \\\n",
              "0                            10  24.98298  121.54024                   1   \n",
              "1                             9  24.98034  121.53951                   2   \n",
              "2                             5  24.98746  121.54391                   3   \n",
              "3                             5  24.98746  121.54391                   2   \n",
              "4                             5  24.97937  121.54245                   1   \n",
              "\n",
              "   House size (sqft)  House price of unit area  \n",
              "0                575                      37.9  \n",
              "1               1240                      42.2  \n",
              "2               1060                      47.3  \n",
              "3                875                      54.8  \n",
              "4                491                      43.1  "
            ],
            "text/html": [
              "\n",
              "  <div id=\"df-496b5dad-1f18-46d3-a8cf-6c282ddf58c4\">\n",
              "    <div class=\"colab-df-container\">\n",
              "      <div>\n",
              "<style scoped>\n",
              "    .dataframe tbody tr th:only-of-type {\n",
              "        vertical-align: middle;\n",
              "    }\n",
              "\n",
              "    .dataframe tbody tr th {\n",
              "        vertical-align: top;\n",
              "    }\n",
              "\n",
              "    .dataframe thead th {\n",
              "        text-align: right;\n",
              "    }\n",
              "</style>\n",
              "<table border=\"1\" class=\"dataframe\">\n",
              "  <thead>\n",
              "    <tr style=\"text-align: right;\">\n",
              "      <th></th>\n",
              "      <th>Transaction date</th>\n",
              "      <th>House Age</th>\n",
              "      <th>Distance from nearest Metro station (km)</th>\n",
              "      <th>Number of convenience stores</th>\n",
              "      <th>latitude</th>\n",
              "      <th>longitude</th>\n",
              "      <th>Number of bedrooms</th>\n",
              "      <th>House size (sqft)</th>\n",
              "      <th>House price of unit area</th>\n",
              "    </tr>\n",
              "  </thead>\n",
              "  <tbody>\n",
              "    <tr>\n",
              "      <th>0</th>\n",
              "      <td>2012.916667</td>\n",
              "      <td>32.0</td>\n",
              "      <td>84.87882</td>\n",
              "      <td>10</td>\n",
              "      <td>24.98298</td>\n",
              "      <td>121.54024</td>\n",
              "      <td>1</td>\n",
              "      <td>575</td>\n",
              "      <td>37.9</td>\n",
              "    </tr>\n",
              "    <tr>\n",
              "      <th>1</th>\n",
              "      <td>2012.916667</td>\n",
              "      <td>19.5</td>\n",
              "      <td>306.59470</td>\n",
              "      <td>9</td>\n",
              "      <td>24.98034</td>\n",
              "      <td>121.53951</td>\n",
              "      <td>2</td>\n",
              "      <td>1240</td>\n",
              "      <td>42.2</td>\n",
              "    </tr>\n",
              "    <tr>\n",
              "      <th>2</th>\n",
              "      <td>2013.583333</td>\n",
              "      <td>13.3</td>\n",
              "      <td>561.98450</td>\n",
              "      <td>5</td>\n",
              "      <td>24.98746</td>\n",
              "      <td>121.54391</td>\n",
              "      <td>3</td>\n",
              "      <td>1060</td>\n",
              "      <td>47.3</td>\n",
              "    </tr>\n",
              "    <tr>\n",
              "      <th>3</th>\n",
              "      <td>2013.500000</td>\n",
              "      <td>13.3</td>\n",
              "      <td>561.98450</td>\n",
              "      <td>5</td>\n",
              "      <td>24.98746</td>\n",
              "      <td>121.54391</td>\n",
              "      <td>2</td>\n",
              "      <td>875</td>\n",
              "      <td>54.8</td>\n",
              "    </tr>\n",
              "    <tr>\n",
              "      <th>4</th>\n",
              "      <td>2012.833333</td>\n",
              "      <td>5.0</td>\n",
              "      <td>390.56840</td>\n",
              "      <td>5</td>\n",
              "      <td>24.97937</td>\n",
              "      <td>121.54245</td>\n",
              "      <td>1</td>\n",
              "      <td>491</td>\n",
              "      <td>43.1</td>\n",
              "    </tr>\n",
              "  </tbody>\n",
              "</table>\n",
              "</div>\n",
              "      <button class=\"colab-df-convert\" onclick=\"convertToInteractive('df-496b5dad-1f18-46d3-a8cf-6c282ddf58c4')\"\n",
              "              title=\"Convert this dataframe to an interactive table.\"\n",
              "              style=\"display:none;\">\n",
              "        \n",
              "  <svg xmlns=\"http://www.w3.org/2000/svg\" height=\"24px\"viewBox=\"0 0 24 24\"\n",
              "       width=\"24px\">\n",
              "    <path d=\"M0 0h24v24H0V0z\" fill=\"none\"/>\n",
              "    <path d=\"M18.56 5.44l.94 2.06.94-2.06 2.06-.94-2.06-.94-.94-2.06-.94 2.06-2.06.94zm-11 1L8.5 8.5l.94-2.06 2.06-.94-2.06-.94L8.5 2.5l-.94 2.06-2.06.94zm10 10l.94 2.06.94-2.06 2.06-.94-2.06-.94-.94-2.06-.94 2.06-2.06.94z\"/><path d=\"M17.41 7.96l-1.37-1.37c-.4-.4-.92-.59-1.43-.59-.52 0-1.04.2-1.43.59L10.3 9.45l-7.72 7.72c-.78.78-.78 2.05 0 2.83L4 21.41c.39.39.9.59 1.41.59.51 0 1.02-.2 1.41-.59l7.78-7.78 2.81-2.81c.8-.78.8-2.07 0-2.86zM5.41 20L4 18.59l7.72-7.72 1.47 1.35L5.41 20z\"/>\n",
              "  </svg>\n",
              "      </button>\n",
              "      \n",
              "  <style>\n",
              "    .colab-df-container {\n",
              "      display:flex;\n",
              "      flex-wrap:wrap;\n",
              "      gap: 12px;\n",
              "    }\n",
              "\n",
              "    .colab-df-convert {\n",
              "      background-color: #E8F0FE;\n",
              "      border: none;\n",
              "      border-radius: 50%;\n",
              "      cursor: pointer;\n",
              "      display: none;\n",
              "      fill: #1967D2;\n",
              "      height: 32px;\n",
              "      padding: 0 0 0 0;\n",
              "      width: 32px;\n",
              "    }\n",
              "\n",
              "    .colab-df-convert:hover {\n",
              "      background-color: #E2EBFA;\n",
              "      box-shadow: 0px 1px 2px rgba(60, 64, 67, 0.3), 0px 1px 3px 1px rgba(60, 64, 67, 0.15);\n",
              "      fill: #174EA6;\n",
              "    }\n",
              "\n",
              "    [theme=dark] .colab-df-convert {\n",
              "      background-color: #3B4455;\n",
              "      fill: #D2E3FC;\n",
              "    }\n",
              "\n",
              "    [theme=dark] .colab-df-convert:hover {\n",
              "      background-color: #434B5C;\n",
              "      box-shadow: 0px 1px 3px 1px rgba(0, 0, 0, 0.15);\n",
              "      filter: drop-shadow(0px 1px 2px rgba(0, 0, 0, 0.3));\n",
              "      fill: #FFFFFF;\n",
              "    }\n",
              "  </style>\n",
              "\n",
              "      <script>\n",
              "        const buttonEl =\n",
              "          document.querySelector('#df-496b5dad-1f18-46d3-a8cf-6c282ddf58c4 button.colab-df-convert');\n",
              "        buttonEl.style.display =\n",
              "          google.colab.kernel.accessAllowed ? 'block' : 'none';\n",
              "\n",
              "        async function convertToInteractive(key) {\n",
              "          const element = document.querySelector('#df-496b5dad-1f18-46d3-a8cf-6c282ddf58c4');\n",
              "          const dataTable =\n",
              "            await google.colab.kernel.invokeFunction('convertToInteractive',\n",
              "                                                     [key], {});\n",
              "          if (!dataTable) return;\n",
              "\n",
              "          const docLinkHtml = 'Like what you see? Visit the ' +\n",
              "            '<a target=\"_blank\" href=https://colab.research.google.com/notebooks/data_table.ipynb>data table notebook</a>'\n",
              "            + ' to learn more about interactive tables.';\n",
              "          element.innerHTML = '';\n",
              "          dataTable['output_type'] = 'display_data';\n",
              "          await google.colab.output.renderOutput(dataTable, element);\n",
              "          const docLink = document.createElement('div');\n",
              "          docLink.innerHTML = docLinkHtml;\n",
              "          element.appendChild(docLink);\n",
              "        }\n",
              "      </script>\n",
              "    </div>\n",
              "  </div>\n",
              "  "
            ]
          },
          "metadata": {},
          "execution_count": 7
        }
      ],
      "source": [
        "import pandas as pd\n",
        "df=pd.read_excel(\"DS - Assignment Part 1 data set.xlsx\")\n",
        "df.head()"
      ]
    },
    {
      "cell_type": "markdown",
      "source": [
        "<b>Data Visualisation</b>"
      ],
      "metadata": {
        "id": "69ve8byJ94yE"
      }
    },
    {
      "cell_type": "code",
      "source": [
        "import matplotlib.pyplot as plt\n",
        "df.hist(bins=50,figsize=(15,10))   #plots the graph of all the numeric attributes\n",
        "plt.show()"
      ],
      "metadata": {
        "colab": {
          "base_uri": "https://localhost:8080/",
          "height": 607
        },
        "id": "BcjPqlc_tLla",
        "outputId": "815ac02f-7d73-40af-cbca-89f13b605d1c"
      },
      "execution_count": 8,
      "outputs": [
        {
          "output_type": "display_data",
          "data": {
            "text/plain": [
              "<Figure size 1080x720 with 9 Axes>"
            ],
            "image/png": "[encoded data removed]"
          },
          "metadata": {
            "needs_background": "light"
          }
        }
      ]
    },
    {
      "cell_type": "code",
      "source": [
        "#Plotting heatmap to find correlations of the features\n",
        "import seaborn as sns\n",
        "correlations = df.corr()\n",
        "fig, ax = plt.subplots(figsize=(15,15))\n",
        "sns.heatmap(correlations, vmax=1.0, center=0, fmt='.2f', square=True, annot=True)\n",
        "plt.show()"
      ],
      "metadata": {
        "colab": {
          "base_uri": "https://localhost:8080/",
          "height": 1000
        },
        "id": "jHZ6VIyMtqoX",
        "outputId": "483e7791-80a9-4d84-e440-ff0e0cedf0a9"
      },
      "execution_count": 9,
      "outputs": [
        {
          "output_type": "display_data",
          "data": {
            "text/plain": [
              "<Figure size 1080x1080 with 2 Axes>"
            ],
            "image/png": "[encoded data removed]"
          },
          "metadata": {
            "needs_background": "light"
          }
        }
      ]
    },
    {
      "cell_type": "markdown",
      "source": [
        "Area per bedroom and House size are highly correlated, so a new feature Area per bedroom is created and the other two are removed."
      ],
      "metadata": {
        "id": "Z--JZhlR-fGK"
      }
    },
    {
      "cell_type": "code",
      "source": [
        "df[\"Area per bedroom\"]=df[\"House size (sqft)\"]/df[\"Number of bedrooms\"]"
      ],
      "metadata": {
        "id": "e5gkGs9379v9"
      },
      "execution_count": 10,
      "outputs": []
    },
    {
      "cell_type": "code",
      "source": [
        "df=df.drop([\"Transaction date\",\"Number of bedrooms\",\"House size (sqft)\"],axis=1)"
      ],
      "metadata": {
        "id": "_xQpXQ0IubZd"
      },
      "execution_count": 11,
      "outputs": []
    },
    {
      "cell_type": "code",
      "source": [
        "df"
      ],
      "metadata": {
        "colab": {
          "base_uri": "https://localhost:8080/",
          "height": 485
        },
        "id": "NtT6HbCBuzu2",
        "outputId": "8efb1698-822f-4ba3-838a-d52e7c370655"
      },
      "execution_count": 12,
      "outputs": [
        {
          "output_type": "execute_result",
          "data": {
            "text/plain": [
              "     House Age  Distance from nearest Metro station (km)  \\\n",
              "0         32.0                                  84.87882   \n",
              "1         19.5                                 306.59470   \n",
              "2         13.3                                 561.98450   \n",
              "3         13.3                                 561.98450   \n",
              "4          5.0                                 390.56840   \n",
              "..         ...                                       ...   \n",
              "409       13.7                                4082.01500   \n",
              "410        5.6                                  90.45606   \n",
              "411       18.8                                 390.96960   \n",
              "412        8.1                                 104.81010   \n",
              "413        6.5                                  90.45606   \n",
              "\n",
              "     Number of convenience stores  latitude  longitude  \\\n",
              "0                              10  24.98298  121.54024   \n",
              "1                               9  24.98034  121.53951   \n",
              "2                               5  24.98746  121.54391   \n",
              "3                               5  24.98746  121.54391   \n",
              "4                               5  24.97937  121.54245   \n",
              "..                            ...       ...        ...   \n",
              "409                             0  24.94155  121.50381   \n",
              "410                             9  24.97433  121.54310   \n",
              "411                             7  24.97923  121.53986   \n",
              "412                             5  24.96674  121.54067   \n",
              "413                             9  24.97433  121.54310   \n",
              "\n",
              "     House price of unit area  Area per bedroom  \n",
              "0                        37.9        575.000000  \n",
              "1                        42.2        620.000000  \n",
              "2                        47.3        353.333333  \n",
              "3                        54.8        437.500000  \n",
              "4                        43.1        491.000000  \n",
              "..                        ...               ...  \n",
              "409                      15.4        267.666667  \n",
              "410                      50.0        639.000000  \n",
              "411                      40.6        503.000000  \n",
              "412                      52.5        597.000000  \n",
              "413                      63.9        548.500000  \n",
              "\n",
              "[414 rows x 7 columns]"
            ],
            "text/html": [
              "\n",
              "  <div id=\"df-ed705c52-f8f5-4bee-8e90-3585011001f3\">\n",
              "    <div class=\"colab-df-container\">\n",
              "      <div>\n",
              "<style scoped>\n",
              "    .dataframe tbody tr th:only-of-type {\n",
              "        vertical-align: middle;\n",
              "    }\n",
              "\n",
              "    .dataframe tbody tr th {\n",
              "        vertical-align: top;\n",
              "    }\n",
              "\n",
              "    .dataframe thead th {\n",
              "        text-align: right;\n",
              "    }\n",
              "</style>\n",
              "<table border=\"1\" class=\"dataframe\">\n",
              "  <thead>\n",
              "    <tr style=\"text-align: right;\">\n",
              "      <th></th>\n",
              "      <th>House Age</th>\n",
              "      <th>Distance from nearest Metro station (km)</th>\n",
              "      <th>Number of convenience stores</th>\n",
              "      <th>latitude</th>\n",
              "      <th>longitude</th>\n",
              "      <th>House price of unit area</th>\n",
              "      <th>Area per bedroom</th>\n",
              "    </tr>\n",
              "  </thead>\n",
              "  <tbody>\n",
              "    <tr>\n",
              "      <th>0</th>\n",
              "      <td>32.0</td>\n",
              "      <td>84.87882</td>\n",
              "      <td>10</td>\n",
              "      <td>24.98298</td>\n",
              "      <td>121.54024</td>\n",
              "      <td>37.9</td>\n",
              "      <td>575.000000</td>\n",
              "    </tr>\n",
              "    <tr>\n",
              "      <th>1</th>\n",
              "      <td>19.5</td>\n",
              "      <td>306.59470</td>\n",
              "      <td>9</td>\n",
              "      <td>24.98034</td>\n",
              "      <td>121.53951</td>\n",
              "      <td>42.2</td>\n",
              "      <td>620.000000</td>\n",
              "    </tr>\n",
              "    <tr>\n",
              "      <th>2</th>\n",
              "      <td>13.3</td>\n",
              "      <td>561.98450</td>\n",
              "      <td>5</td>\n",
              "      <td>24.98746</td>\n",
              "      <td>121.54391</td>\n",
              "      <td>47.3</td>\n",
              "      <td>353.333333</td>\n",
              "    </tr>\n",
              "    <tr>\n",
              "      <th>3</th>\n",
              "      <td>13.3</td>\n",
              "      <td>561.98450</td>\n",
              "      <td>5</td>\n",
              "      <td>24.98746</td>\n",
              "      <td>121.54391</td>\n",
              "      <td>54.8</td>\n",
              "      <td>437.500000</td>\n",
              "    </tr>\n",
              "    <tr>\n",
              "      <th>4</th>\n",
              "      <td>5.0</td>\n",
              "      <td>390.56840</td>\n",
              "      <td>5</td>\n",
              "      <td>24.97937</td>\n",
              "      <td>121.54245</td>\n",
              "      <td>43.1</td>\n",
              "      <td>491.000000</td>\n",
              "    </tr>\n",
              "    <tr>\n",
              "      <th>...</th>\n",
              "      <td>...</td>\n",
              "      <td>...</td>\n",
              "      <td>...</td>\n",
              "      <td>...</td>\n",
              "      <td>...</td>\n",
              "      <td>...</td>\n",
              "      <td>...</td>\n",
              "    </tr>\n",
              "    <tr>\n",
              "      <th>409</th>\n",
              "      <td>13.7</td>\n",
              "      <td>4082.01500</td>\n",
              "      <td>0</td>\n",
              "      <td>24.94155</td>\n",
              "      <td>121.50381</td>\n",
              "      <td>15.4</td>\n",
              "      <td>267.666667</td>\n",
              "    </tr>\n",
              "    <tr>\n",
              "      <th>410</th>\n",
              "      <td>5.6</td>\n",
              "      <td>90.45606</td>\n",
              "      <td>9</td>\n",
              "      <td>24.97433</td>\n",
              "      <td>121.54310</td>\n",
              "      <td>50.0</td>\n",
              "      <td>639.000000</td>\n",
              "    </tr>\n",
              "    <tr>\n",
              "      <th>411</th>\n",
              "      <td>18.8</td>\n",
              "      <td>390.96960</td>\n",
              "      <td>7</td>\n",
              "      <td>24.97923</td>\n",
              "      <td>121.53986</td>\n",
              "      <td>40.6</td>\n",
              "      <td>503.000000</td>\n",
              "    </tr>\n",
              "    <tr>\n",
              "      <th>412</th>\n",
              "      <td>8.1</td>\n",
              "      <td>104.81010</td>\n",
              "      <td>5</td>\n",
              "      <td>24.96674</td>\n",
              "      <td>121.54067</td>\n",
              "      <td>52.5</td>\n",
              "      <td>597.000000</td>\n",
              "    </tr>\n",
              "    <tr>\n",
              "      <th>413</th>\n",
              "      <td>6.5</td>\n",
              "      <td>90.45606</td>\n",
              "      <td>9</td>\n",
              "      <td>24.97433</td>\n",
              "      <td>121.54310</td>\n",
              "      <td>63.9</td>\n",
              "      <td>548.500000</td>\n",
              "    </tr>\n",
              "  </tbody>\n",
              "</table>\n",
              "<p>414 rows × 7 columns</p>\n",
              "</div>\n",
              "      <button class=\"colab-df-convert\" onclick=\"convertToInteractive('df-ed705c52-f8f5-4bee-8e90-3585011001f3')\"\n",
              "              title=\"Convert this dataframe to an interactive table.\"\n",
              "              style=\"display:none;\">\n",
              "        \n",
              "  <svg xmlns=\"http://www.w3.org/2000/svg\" height=\"24px\"viewBox=\"0 0 24 24\"\n",
              "       width=\"24px\">\n",
              "    <path d=\"M0 0h24v24H0V0z\" fill=\"none\"/>\n",
              "    <path d=\"M18.56 5.44l.94 2.06.94-2.06 2.06-.94-2.06-.94-.94-2.06-.94 2.06-2.06.94zm-11 1L8.5 8.5l.94-2.06 2.06-.94-2.06-.94L8.5 2.5l-.94 2.06-2.06.94zm10 10l.94 2.06.94-2.06 2.06-.94-2.06-.94-.94-2.06-.94 2.06-2.06.94z\"/><path d=\"M17.41 7.96l-1.37-1.37c-.4-.4-.92-.59-1.43-.59-.52 0-1.04.2-1.43.59L10.3 9.45l-7.72 7.72c-.78.78-.78 2.05 0 2.83L4 21.41c.39.39.9.59 1.41.59.51 0 1.02-.2 1.41-.59l7.78-7.78 2.81-2.81c.8-.78.8-2.07 0-2.86zM5.41 20L4 18.59l7.72-7.72 1.47 1.35L5.41 20z\"/>\n",
              "  </svg>\n",
              "      </button>\n",
              "      \n",
              "  <style>\n",
              "    .colab-df-container {\n",
              "      display:flex;\n",
              "      flex-wrap:wrap;\n",
              "      gap: 12px;\n",
              "    }\n",
              "\n",
              "    .colab-df-convert {\n",
              "      background-color: #E8F0FE;\n",
              "      border: none;\n",
              "      border-radius: 50%;\n",
              "      cursor: pointer;\n",
              "      display: none;\n",
              "      fill: #1967D2;\n",
              "      height: 32px;\n",
              "      padding: 0 0 0 0;\n",
              "      width: 32px;\n",
              "    }\n",
              "\n",
              "    .colab-df-convert:hover {\n",
              "      background-color: #E2EBFA;\n",
              "      box-shadow: 0px 1px 2px rgba(60, 64, 67, 0.3), 0px 1px 3px 1px rgba(60, 64, 67, 0.15);\n",
              "      fill: #174EA6;\n",
              "    }\n",
              "\n",
              "    [theme=dark] .colab-df-convert {\n",
              "      background-color: #3B4455;\n",
              "      fill: #D2E3FC;\n",
              "    }\n",
              "\n",
              "    [theme=dark] .colab-df-convert:hover {\n",
              "      background-color: #434B5C;\n",
              "      box-shadow: 0px 1px 3px 1px rgba(0, 0, 0, 0.15);\n",
              "      filter: drop-shadow(0px 1px 2px rgba(0, 0, 0, 0.3));\n",
              "      fill: #FFFFFF;\n",
              "    }\n",
              "  </style>\n",
              "\n",
              "      <script>\n",
              "        const buttonEl =\n",
              "          document.querySelector('#df-ed705c52-f8f5-4bee-8e90-3585011001f3 button.colab-df-convert');\n",
              "        buttonEl.style.display =\n",
              "          google.colab.kernel.accessAllowed ? 'block' : 'none';\n",
              "\n",
              "        async function convertToInteractive(key) {\n",
              "          const element = document.querySelector('#df-ed705c52-f8f5-4bee-8e90-3585011001f3');\n",
              "          const dataTable =\n",
              "            await google.colab.kernel.invokeFunction('convertToInteractive',\n",
              "                                                     [key], {});\n",
              "          if (!dataTable) return;\n",
              "\n",
              "          const docLinkHtml = 'Like what you see? Visit the ' +\n",
              "            '<a target=\"_blank\" href=https://colab.research.google.com/notebooks/data_table.ipynb>data table notebook</a>'\n",
              "            + ' to learn more about interactive tables.';\n",
              "          element.innerHTML = '';\n",
              "          dataTable['output_type'] = 'display_data';\n",
              "          await google.colab.output.renderOutput(dataTable, element);\n",
              "          const docLink = document.createElement('div');\n",
              "          docLink.innerHTML = docLinkHtml;\n",
              "          element.appendChild(docLink);\n",
              "        }\n",
              "      </script>\n",
              "    </div>\n",
              "  </div>\n",
              "  "
            ]
          },
          "metadata": {},
          "execution_count": 12
        }
      ]
    },
    {
      "cell_type": "markdown",
      "source": [
        "<b>Outlier Detection</b>"
      ],
      "metadata": {
        "id": "WK6Q9ME4-03Q"
      }
    },
    {
      "cell_type": "code",
      "source": [
        "mu,sigma=df[\"House Age\"].mean(),df[\"House Age\"].std()"
      ],
      "metadata": {
        "id": "bC3CfKjZu9R1"
      },
      "execution_count": 13,
      "outputs": []
    },
    {
      "cell_type": "code",
      "source": [
        "len(df),len(df[(df[\"House Age\"]>mu - 2*sigma) & (df[\"House Age\"]< mu + 2*sigma)])"
      ],
      "metadata": {
        "colab": {
          "base_uri": "https://localhost:8080/"
        },
        "id": "5WJsKIkuvL_o",
        "outputId": "2460082a-dba0-4b37-cdfa-fa8c486fc0d8"
      },
      "execution_count": 14,
      "outputs": [
        {
          "output_type": "execute_result",
          "data": {
            "text/plain": [
              "(414, 407)"
            ]
          },
          "metadata": {},
          "execution_count": 14
        }
      ]
    },
    {
      "cell_type": "code",
      "source": [
        "#Taking only those data that are in the 95% Confidence interval\n",
        "df=df[(df[\"House Age\"]>mu - 2*sigma) & (df[\"House Age\"]< mu + 2*sigma)]"
      ],
      "metadata": {
        "id": "b3EwjrOkviIz"
      },
      "execution_count": 15,
      "outputs": []
    },
    {
      "cell_type": "code",
      "source": [
        "mu,sigma=df[\"Distance from nearest Metro station (km)\"].mean(),df[\"Distance from nearest Metro station (km)\"].std()"
      ],
      "metadata": {
        "id": "JaMD1uoAvnGN"
      },
      "execution_count": 16,
      "outputs": []
    },
    {
      "cell_type": "code",
      "source": [
        "len(df),len(df[(df[\"Distance from nearest Metro station (km)\"]>mu - 2*sigma) & (df[\"Distance from nearest Metro station (km)\"]< mu + 2*sigma)])"
      ],
      "metadata": {
        "colab": {
          "base_uri": "https://localhost:8080/"
        },
        "id": "yzlHZL-3vwmr",
        "outputId": "d59546dd-215e-49c3-e5bb-7702e134115c"
      },
      "execution_count": 17,
      "outputs": [
        {
          "output_type": "execute_result",
          "data": {
            "text/plain": [
              "(407, 371)"
            ]
          },
          "metadata": {},
          "execution_count": 17
        }
      ]
    },
    {
      "cell_type": "code",
      "source": [
        "#Taking only those data that are in the 95% Confidence interval\n",
        "df=df[(df[\"Distance from nearest Metro station (km)\"]>mu - 2*sigma) & (df[\"Distance from nearest Metro station (km)\"]< mu + 2*sigma)]"
      ],
      "metadata": {
        "id": "Q5Lh1HnjvykO"
      },
      "execution_count": 18,
      "outputs": []
    },
    {
      "cell_type": "code",
      "source": [
        "df"
      ],
      "metadata": {
        "colab": {
          "base_uri": "https://localhost:8080/",
          "height": 485
        },
        "id": "kH91poxKxNQP",
        "outputId": "014d5728-869d-4360-c902-af1bb06a86e1"
      },
      "execution_count": 19,
      "outputs": [
        {
          "output_type": "execute_result",
          "data": {
            "text/plain": [
              "     House Age  Distance from nearest Metro station (km)  \\\n",
              "0         32.0                                  84.87882   \n",
              "1         19.5                                 306.59470   \n",
              "2         13.3                                 561.98450   \n",
              "3         13.3                                 561.98450   \n",
              "4          5.0                                 390.56840   \n",
              "..         ...                                       ...   \n",
              "408       18.5                                2175.74400   \n",
              "410        5.6                                  90.45606   \n",
              "411       18.8                                 390.96960   \n",
              "412        8.1                                 104.81010   \n",
              "413        6.5                                  90.45606   \n",
              "\n",
              "     Number of convenience stores  latitude  longitude  \\\n",
              "0                              10  24.98298  121.54024   \n",
              "1                               9  24.98034  121.53951   \n",
              "2                               5  24.98746  121.54391   \n",
              "3                               5  24.98746  121.54391   \n",
              "4                               5  24.97937  121.54245   \n",
              "..                            ...       ...        ...   \n",
              "408                             3  24.96330  121.51243   \n",
              "410                             9  24.97433  121.54310   \n",
              "411                             7  24.97923  121.53986   \n",
              "412                             5  24.96674  121.54067   \n",
              "413                             9  24.97433  121.54310   \n",
              "\n",
              "     House price of unit area  Area per bedroom  \n",
              "0                        37.9        575.000000  \n",
              "1                        42.2        620.000000  \n",
              "2                        47.3        353.333333  \n",
              "3                        54.8        437.500000  \n",
              "4                        43.1        491.000000  \n",
              "..                        ...               ...  \n",
              "408                      28.1        477.000000  \n",
              "410                      50.0        639.000000  \n",
              "411                      40.6        503.000000  \n",
              "412                      52.5        597.000000  \n",
              "413                      63.9        548.500000  \n",
              "\n",
              "[371 rows x 7 columns]"
            ],
            "text/html": [
              "\n",
              "  <div id=\"df-3d3da923-56f6-4d8e-9d4e-d97a6151e9ab\">\n",
              "    <div class=\"colab-df-container\">\n",
              "      <div>\n",
              "<style scoped>\n",
              "    .dataframe tbody tr th:only-of-type {\n",
              "        vertical-align: middle;\n",
              "    }\n",
              "\n",
              "    .dataframe tbody tr th {\n",
              "        vertical-align: top;\n",
              "    }\n",
              "\n",
              "    .dataframe thead th {\n",
              "        text-align: right;\n",
              "    }\n",
              "</style>\n",
              "<table border=\"1\" class=\"dataframe\">\n",
              "  <thead>\n",
              "    <tr style=\"text-align: right;\">\n",
              "      <th></th>\n",
              "      <th>House Age</th>\n",
              "      <th>Distance from nearest Metro station (km)</th>\n",
              "      <th>Number of convenience stores</th>\n",
              "      <th>latitude</th>\n",
              "      <th>longitude</th>\n",
              "      <th>House price of unit area</th>\n",
              "      <th>Area per bedroom</th>\n",
              "    </tr>\n",
              "  </thead>\n",
              "  <tbody>\n",
              "    <tr>\n",
              "      <th>0</th>\n",
              "      <td>32.0</td>\n",
              "      <td>84.87882</td>\n",
              "      <td>10</td>\n",
              "      <td>24.98298</td>\n",
              "      <td>121.54024</td>\n",
              "      <td>37.9</td>\n",
              "      <td>575.000000</td>\n",
              "    </tr>\n",
              "    <tr>\n",
              "      <th>1</th>\n",
              "      <td>19.5</td>\n",
              "      <td>306.59470</td>\n",
              "      <td>9</td>\n",
              "      <td>24.98034</td>\n",
              "      <td>121.53951</td>\n",
              "      <td>42.2</td>\n",
              "      <td>620.000000</td>\n",
              "    </tr>\n",
              "    <tr>\n",
              "      <th>2</th>\n",
              "      <td>13.3</td>\n",
              "      <td>561.98450</td>\n",
              "      <td>5</td>\n",
              "      <td>24.98746</td>\n",
              "      <td>121.54391</td>\n",
              "      <td>47.3</td>\n",
              "      <td>353.333333</td>\n",
              "    </tr>\n",
              "    <tr>\n",
              "      <th>3</th>\n",
              "      <td>13.3</td>\n",
              "      <td>561.98450</td>\n",
              "      <td>5</td>\n",
              "      <td>24.98746</td>\n",
              "      <td>121.54391</td>\n",
              "      <td>54.8</td>\n",
              "      <td>437.500000</td>\n",
              "    </tr>\n",
              "    <tr>\n",
              "      <th>4</th>\n",
              "      <td>5.0</td>\n",
              "      <td>390.56840</td>\n",
              "      <td>5</td>\n",
              "      <td>24.97937</td>\n",
              "      <td>121.54245</td>\n",
              "      <td>43.1</td>\n",
              "      <td>491.000000</td>\n",
              "    </tr>\n",
              "    <tr>\n",
              "      <th>...</th>\n",
              "      <td>...</td>\n",
              "      <td>...</td>\n",
              "      <td>...</td>\n",
              "      <td>...</td>\n",
              "      <td>...</td>\n",
              "      <td>...</td>\n",
              "      <td>...</td>\n",
              "    </tr>\n",
              "    <tr>\n",
              "      <th>408</th>\n",
              "      <td>18.5</td>\n",
              "      <td>2175.74400</td>\n",
              "      <td>3</td>\n",
              "      <td>24.96330</td>\n",
              "      <td>121.51243</td>\n",
              "      <td>28.1</td>\n",
              "      <td>477.000000</td>\n",
              "    </tr>\n",
              "    <tr>\n",
              "      <th>410</th>\n",
              "      <td>5.6</td>\n",
              "      <td>90.45606</td>\n",
              "      <td>9</td>\n",
              "      <td>24.97433</td>\n",
              "      <td>121.54310</td>\n",
              "      <td>50.0</td>\n",
              "      <td>639.000000</td>\n",
              "    </tr>\n",
              "    <tr>\n",
              "      <th>411</th>\n",
              "      <td>18.8</td>\n",
              "      <td>390.96960</td>\n",
              "      <td>7</td>\n",
              "      <td>24.97923</td>\n",
              "      <td>121.53986</td>\n",
              "      <td>40.6</td>\n",
              "      <td>503.000000</td>\n",
              "    </tr>\n",
              "    <tr>\n",
              "      <th>412</th>\n",
              "      <td>8.1</td>\n",
              "      <td>104.81010</td>\n",
              "      <td>5</td>\n",
              "      <td>24.96674</td>\n",
              "      <td>121.54067</td>\n",
              "      <td>52.5</td>\n",
              "      <td>597.000000</td>\n",
              "    </tr>\n",
              "    <tr>\n",
              "      <th>413</th>\n",
              "      <td>6.5</td>\n",
              "      <td>90.45606</td>\n",
              "      <td>9</td>\n",
              "      <td>24.97433</td>\n",
              "      <td>121.54310</td>\n",
              "      <td>63.9</td>\n",
              "      <td>548.500000</td>\n",
              "    </tr>\n",
              "  </tbody>\n",
              "</table>\n",
              "<p>371 rows × 7 columns</p>\n",
              "</div>\n",
              "      <button class=\"colab-df-convert\" onclick=\"convertToInteractive('df-3d3da923-56f6-4d8e-9d4e-d97a6151e9ab')\"\n",
              "              title=\"Convert this dataframe to an interactive table.\"\n",
              "              style=\"display:none;\">\n",
              "        \n",
              "  <svg xmlns=\"http://www.w3.org/2000/svg\" height=\"24px\"viewBox=\"0 0 24 24\"\n",
              "       width=\"24px\">\n",
              "    <path d=\"M0 0h24v24H0V0z\" fill=\"none\"/>\n",
              "    <path d=\"M18.56 5.44l.94 2.06.94-2.06 2.06-.94-2.06-.94-.94-2.06-.94 2.06-2.06.94zm-11 1L8.5 8.5l.94-2.06 2.06-.94-2.06-.94L8.5 2.5l-.94 2.06-2.06.94zm10 10l.94 2.06.94-2.06 2.06-.94-2.06-.94-.94-2.06-.94 2.06-2.06.94z\"/><path d=\"M17.41 7.96l-1.37-1.37c-.4-.4-.92-.59-1.43-.59-.52 0-1.04.2-1.43.59L10.3 9.45l-7.72 7.72c-.78.78-.78 2.05 0 2.83L4 21.41c.39.39.9.59 1.41.59.51 0 1.02-.2 1.41-.59l7.78-7.78 2.81-2.81c.8-.78.8-2.07 0-2.86zM5.41 20L4 18.59l7.72-7.72 1.47 1.35L5.41 20z\"/>\n",
              "  </svg>\n",
              "      </button>\n",
              "      \n",
              "  <style>\n",
              "    .colab-df-container {\n",
              "      display:flex;\n",
              "      flex-wrap:wrap;\n",
              "      gap: 12px;\n",
              "    }\n",
              "\n",
              "    .colab-df-convert {\n",
              "      background-color: #E8F0FE;\n",
              "      border: none;\n",
              "      border-radius: 50%;\n",
              "      cursor: pointer;\n",
              "      display: none;\n",
              "      fill: #1967D2;\n",
              "      height: 32px;\n",
              "      padding: 0 0 0 0;\n",
              "      width: 32px;\n",
              "    }\n",
              "\n",
              "    .colab-df-convert:hover {\n",
              "      background-color: #E2EBFA;\n",
              "      box-shadow: 0px 1px 2px rgba(60, 64, 67, 0.3), 0px 1px 3px 1px rgba(60, 64, 67, 0.15);\n",
              "      fill: #174EA6;\n",
              "    }\n",
              "\n",
              "    [theme=dark] .colab-df-convert {\n",
              "      background-color: #3B4455;\n",
              "      fill: #D2E3FC;\n",
              "    }\n",
              "\n",
              "    [theme=dark] .colab-df-convert:hover {\n",
              "      background-color: #434B5C;\n",
              "      box-shadow: 0px 1px 3px 1px rgba(0, 0, 0, 0.15);\n",
              "      filter: drop-shadow(0px 1px 2px rgba(0, 0, 0, 0.3));\n",
              "      fill: #FFFFFF;\n",
              "    }\n",
              "  </style>\n",
              "\n",
              "      <script>\n",
              "        const buttonEl =\n",
              "          document.querySelector('#df-3d3da923-56f6-4d8e-9d4e-d97a6151e9ab button.colab-df-convert');\n",
              "        buttonEl.style.display =\n",
              "          google.colab.kernel.accessAllowed ? 'block' : 'none';\n",
              "\n",
              "        async function convertToInteractive(key) {\n",
              "          const element = document.querySelector('#df-3d3da923-56f6-4d8e-9d4e-d97a6151e9ab');\n",
              "          const dataTable =\n",
              "            await google.colab.kernel.invokeFunction('convertToInteractive',\n",
              "                                                     [key], {});\n",
              "          if (!dataTable) return;\n",
              "\n",
              "          const docLinkHtml = 'Like what you see? Visit the ' +\n",
              "            '<a target=\"_blank\" href=https://colab.research.google.com/notebooks/data_table.ipynb>data table notebook</a>'\n",
              "            + ' to learn more about interactive tables.';\n",
              "          element.innerHTML = '';\n",
              "          dataTable['output_type'] = 'display_data';\n",
              "          await google.colab.output.renderOutput(dataTable, element);\n",
              "          const docLink = document.createElement('div');\n",
              "          docLink.innerHTML = docLinkHtml;\n",
              "          element.appendChild(docLink);\n",
              "        }\n",
              "      </script>\n",
              "    </div>\n",
              "  </div>\n",
              "  "
            ]
          },
          "metadata": {},
          "execution_count": 19
        }
      ]
    },
    {
      "cell_type": "code",
      "source": [
        "df.rename(columns = {'House Age':'x1',\n",
        "                        'Distance from nearest Metro station (km)':'x2',\n",
        "                        'Number of convenience stores':'x3',\n",
        "                        'latitude':'x4',\n",
        "                        'longitude':'x5',\n",
        "                        'Area per bedroom':'x6',\n",
        "                        'House price of unit area':'y'\n",
        "                        }, inplace = True)\n"
      ],
      "metadata": {
        "id": "mK_Q4xZev-xz"
      },
      "execution_count": 20,
      "outputs": []
    },
    {
      "cell_type": "code",
      "source": [
        "df.head()"
      ],
      "metadata": {
        "colab": {
          "base_uri": "https://localhost:8080/",
          "height": 206
        },
        "id": "LpeGFHNiw3R9",
        "outputId": "a2f4be68-a7ae-4ccc-d411-ba4b6cf1730d"
      },
      "execution_count": 21,
      "outputs": [
        {
          "output_type": "execute_result",
          "data": {
            "text/plain": [
              "     x1         x2  x3        x4         x5     y          x6\n",
              "0  32.0   84.87882  10  24.98298  121.54024  37.9  575.000000\n",
              "1  19.5  306.59470   9  24.98034  121.53951  42.2  620.000000\n",
              "2  13.3  561.98450   5  24.98746  121.54391  47.3  353.333333\n",
              "3  13.3  561.98450   5  24.98746  121.54391  54.8  437.500000\n",
              "4   5.0  390.56840   5  24.97937  121.54245  43.1  491.000000"
            ],
            "text/html": [
              "\n",
              "  <div id=\"df-751b6961-7b0a-4bd8-a55d-6fa17bbad9a5\">\n",
              "    <div class=\"colab-df-container\">\n",
              "      <div>\n",
              "<style scoped>\n",
              "    .dataframe tbody tr th:only-of-type {\n",
              "        vertical-align: middle;\n",
              "    }\n",
              "\n",
              "    .dataframe tbody tr th {\n",
              "        vertical-align: top;\n",
              "    }\n",
              "\n",
              "    .dataframe thead th {\n",
              "        text-align: right;\n",
              "    }\n",
              "</style>\n",
              "<table border=\"1\" class=\"dataframe\">\n",
              "  <thead>\n",
              "    <tr style=\"text-align: right;\">\n",
              "      <th></th>\n",
              "      <th>x1</th>\n",
              "      <th>x2</th>\n",
              "      <th>x3</th>\n",
              "      <th>x4</th>\n",
              "      <th>x5</th>\n",
              "      <th>y</th>\n",
              "      <th>x6</th>\n",
              "    </tr>\n",
              "  </thead>\n",
              "  <tbody>\n",
              "    <tr>\n",
              "      <th>0</th>\n",
              "      <td>32.0</td>\n",
              "      <td>84.87882</td>\n",
              "      <td>10</td>\n",
              "      <td>24.98298</td>\n",
              "      <td>121.54024</td>\n",
              "      <td>37.9</td>\n",
              "      <td>575.000000</td>\n",
              "    </tr>\n",
              "    <tr>\n",
              "      <th>1</th>\n",
              "      <td>19.5</td>\n",
              "      <td>306.59470</td>\n",
              "      <td>9</td>\n",
              "      <td>24.98034</td>\n",
              "      <td>121.53951</td>\n",
              "      <td>42.2</td>\n",
              "      <td>620.000000</td>\n",
              "    </tr>\n",
              "    <tr>\n",
              "      <th>2</th>\n",
              "      <td>13.3</td>\n",
              "      <td>561.98450</td>\n",
              "      <td>5</td>\n",
              "      <td>24.98746</td>\n",
              "      <td>121.54391</td>\n",
              "      <td>47.3</td>\n",
              "      <td>353.333333</td>\n",
              "    </tr>\n",
              "    <tr>\n",
              "      <th>3</th>\n",
              "      <td>13.3</td>\n",
              "      <td>561.98450</td>\n",
              "      <td>5</td>\n",
              "      <td>24.98746</td>\n",
              "      <td>121.54391</td>\n",
              "      <td>54.8</td>\n",
              "      <td>437.500000</td>\n",
              "    </tr>\n",
              "    <tr>\n",
              "      <th>4</th>\n",
              "      <td>5.0</td>\n",
              "      <td>390.56840</td>\n",
              "      <td>5</td>\n",
              "      <td>24.97937</td>\n",
              "      <td>121.54245</td>\n",
              "      <td>43.1</td>\n",
              "      <td>491.000000</td>\n",
              "    </tr>\n",
              "  </tbody>\n",
              "</table>\n",
              "</div>\n",
              "      <button class=\"colab-df-convert\" onclick=\"convertToInteractive('df-751b6961-7b0a-4bd8-a55d-6fa17bbad9a5')\"\n",
              "              title=\"Convert this dataframe to an interactive table.\"\n",
              "              style=\"display:none;\">\n",
              "        \n",
              "  <svg xmlns=\"http://www.w3.org/2000/svg\" height=\"24px\"viewBox=\"0 0 24 24\"\n",
              "       width=\"24px\">\n",
              "    <path d=\"M0 0h24v24H0V0z\" fill=\"none\"/>\n",
              "    <path d=\"M18.56 5.44l.94 2.06.94-2.06 2.06-.94-2.06-.94-.94-2.06-.94 2.06-2.06.94zm-11 1L8.5 8.5l.94-2.06 2.06-.94-2.06-.94L8.5 2.5l-.94 2.06-2.06.94zm10 10l.94 2.06.94-2.06 2.06-.94-2.06-.94-.94-2.06-.94 2.06-2.06.94z\"/><path d=\"M17.41 7.96l-1.37-1.37c-.4-.4-.92-.59-1.43-.59-.52 0-1.04.2-1.43.59L10.3 9.45l-7.72 7.72c-.78.78-.78 2.05 0 2.83L4 21.41c.39.39.9.59 1.41.59.51 0 1.02-.2 1.41-.59l7.78-7.78 2.81-2.81c.8-.78.8-2.07 0-2.86zM5.41 20L4 18.59l7.72-7.72 1.47 1.35L5.41 20z\"/>\n",
              "  </svg>\n",
              "      </button>\n",
              "      \n",
              "  <style>\n",
              "    .colab-df-container {\n",
              "      display:flex;\n",
              "      flex-wrap:wrap;\n",
              "      gap: 12px;\n",
              "    }\n",
              "\n",
              "    .colab-df-convert {\n",
              "      background-color: #E8F0FE;\n",
              "      border: none;\n",
              "      border-radius: 50%;\n",
              "      cursor: pointer;\n",
              "      display: none;\n",
              "      fill: #1967D2;\n",
              "      height: 32px;\n",
              "      padding: 0 0 0 0;\n",
              "      width: 32px;\n",
              "    }\n",
              "\n",
              "    .colab-df-convert:hover {\n",
              "      background-color: #E2EBFA;\n",
              "      box-shadow: 0px 1px 2px rgba(60, 64, 67, 0.3), 0px 1px 3px 1px rgba(60, 64, 67, 0.15);\n",
              "      fill: #174EA6;\n",
              "    }\n",
              "\n",
              "    [theme=dark] .colab-df-convert {\n",
              "      background-color: #3B4455;\n",
              "      fill: #D2E3FC;\n",
              "    }\n",
              "\n",
              "    [theme=dark] .colab-df-convert:hover {\n",
              "      background-color: #434B5C;\n",
              "      box-shadow: 0px 1px 3px 1px rgba(0, 0, 0, 0.15);\n",
              "      filter: drop-shadow(0px 1px 2px rgba(0, 0, 0, 0.3));\n",
              "      fill: #FFFFFF;\n",
              "    }\n",
              "  </style>\n",
              "\n",
              "      <script>\n",
              "        const buttonEl =\n",
              "          document.querySelector('#df-751b6961-7b0a-4bd8-a55d-6fa17bbad9a5 button.colab-df-convert');\n",
              "        buttonEl.style.display =\n",
              "          google.colab.kernel.accessAllowed ? 'block' : 'none';\n",
              "\n",
              "        async function convertToInteractive(key) {\n",
              "          const element = document.querySelector('#df-751b6961-7b0a-4bd8-a55d-6fa17bbad9a5');\n",
              "          const dataTable =\n",
              "            await google.colab.kernel.invokeFunction('convertToInteractive',\n",
              "                                                     [key], {});\n",
              "          if (!dataTable) return;\n",
              "\n",
              "          const docLinkHtml = 'Like what you see? Visit the ' +\n",
              "            '<a target=\"_blank\" href=https://colab.research.google.com/notebooks/data_table.ipynb>data table notebook</a>'\n",
              "            + ' to learn more about interactive tables.';\n",
              "          element.innerHTML = '';\n",
              "          dataTable['output_type'] = 'display_data';\n",
              "          await google.colab.output.renderOutput(dataTable, element);\n",
              "          const docLink = document.createElement('div');\n",
              "          docLink.innerHTML = docLinkHtml;\n",
              "          element.appendChild(docLink);\n",
              "        }\n",
              "      </script>\n",
              "    </div>\n",
              "  </div>\n",
              "  "
            ]
          },
          "metadata": {},
          "execution_count": 21
        }
      ]
    },
    {
      "cell_type": "code",
      "source": [
        "#Standardizing the features\n",
        "for i in [1,2,3,4,5,6]:\n",
        "  \n",
        "  df[f\"x{i}\"] = (df[f\"x{i}\"]-df[f\"x{i}\"].mean())/df[f\"x{i}\"].std()\n",
        "df"
      ],
      "metadata": {
        "id": "Q4CXdC-ew4Yp",
        "colab": {
          "base_uri": "https://localhost:8080/",
          "height": 424
        },
        "outputId": "17ec957f-062d-4afd-d6c9-01d318fc3b7a"
      },
      "execution_count": 22,
      "outputs": [
        {
          "output_type": "execute_result",
          "data": {
            "text/plain": [
              "           x1        x2        x3        x4        x5     y        x6\n",
              "0    1.317224 -0.956589  1.971846  1.166864  0.326396  37.9  0.815026\n",
              "1    0.216610 -0.648547  1.618096  0.907162  0.261715  42.2  1.225733\n",
              "2   -0.329294 -0.293721  0.203096  1.607571  0.651572  47.3 -1.208086\n",
              "3   -0.329294 -0.293721  0.203096  1.607571  0.651572  54.8 -0.439912\n",
              "4   -1.060102 -0.531878  0.203096  0.811741  0.522210  43.1  0.048373\n",
              "..        ...       ...       ...       ...       ...   ...       ...\n",
              "408  0.128561  1.948359 -0.504404 -0.769097 -2.137674  28.1 -0.079403\n",
              "410 -1.007272 -0.948840  1.618096  0.315946  0.579803  50.0  1.399143\n",
              "411  0.154976 -0.531321  0.910596  0.797969  0.292727  40.6  0.157895\n",
              "412 -0.787149 -0.928897  0.203096 -0.430697  0.364496  52.5  1.015816\n",
              "413 -0.928028 -0.948840  1.618096  0.315946  0.579803  63.9  0.573165\n",
              "\n",
              "[371 rows x 7 columns]"
            ],
            "text/html": [
              "\n",
              "  <div id=\"df-c1ebf512-b626-43ea-a2f1-093392e2cbdb\">\n",
              "    <div class=\"colab-df-container\">\n",
              "      <div>\n",
              "<style scoped>\n",
              "    .dataframe tbody tr th:only-of-type {\n",
              "        vertical-align: middle;\n",
              "    }\n",
              "\n",
              "    .dataframe tbody tr th {\n",
              "        vertical-align: top;\n",
              "    }\n",
              "\n",
              "    .dataframe thead th {\n",
              "        text-align: right;\n",
              "    }\n",
              "</style>\n",
              "<table border=\"1\" class=\"dataframe\">\n",
              "  <thead>\n",
              "    <tr style=\"text-align: right;\">\n",
              "      <th></th>\n",
              "      <th>x1</th>\n",
              "      <th>x2</th>\n",
              "      <th>x3</th>\n",
              "      <th>x4</th>\n",
              "      <th>x5</th>\n",
              "      <th>y</th>\n",
              "      <th>x6</th>\n",
              "    </tr>\n",
              "  </thead>\n",
              "  <tbody>\n",
              "    <tr>\n",
              "      <th>0</th>\n",
              "      <td>1.317224</td>\n",
              "      <td>-0.956589</td>\n",
              "      <td>1.971846</td>\n",
              "      <td>1.166864</td>\n",
              "      <td>0.326396</td>\n",
              "      <td>37.9</td>\n",
              "      <td>0.815026</td>\n",
              "    </tr>\n",
              "    <tr>\n",
              "      <th>1</th>\n",
              "      <td>0.216610</td>\n",
              "      <td>-0.648547</td>\n",
              "      <td>1.618096</td>\n",
              "      <td>0.907162</td>\n",
              "      <td>0.261715</td>\n",
              "      <td>42.2</td>\n",
              "      <td>1.225733</td>\n",
              "    </tr>\n",
              "    <tr>\n",
              "      <th>2</th>\n",
              "      <td>-0.329294</td>\n",
              "      <td>-0.293721</td>\n",
              "      <td>0.203096</td>\n",
              "      <td>1.607571</td>\n",
              "      <td>0.651572</td>\n",
              "      <td>47.3</td>\n",
              "      <td>-1.208086</td>\n",
              "    </tr>\n",
              "    <tr>\n",
              "      <th>3</th>\n",
              "      <td>-0.329294</td>\n",
              "      <td>-0.293721</td>\n",
              "      <td>0.203096</td>\n",
              "      <td>1.607571</td>\n",
              "      <td>0.651572</td>\n",
              "      <td>54.8</td>\n",
              "      <td>-0.439912</td>\n",
              "    </tr>\n",
              "    <tr>\n",
              "      <th>4</th>\n",
              "      <td>-1.060102</td>\n",
              "      <td>-0.531878</td>\n",
              "      <td>0.203096</td>\n",
              "      <td>0.811741</td>\n",
              "      <td>0.522210</td>\n",
              "      <td>43.1</td>\n",
              "      <td>0.048373</td>\n",
              "    </tr>\n",
              "    <tr>\n",
              "      <th>...</th>\n",
              "      <td>...</td>\n",
              "      <td>...</td>\n",
              "      <td>...</td>\n",
              "      <td>...</td>\n",
              "      <td>...</td>\n",
              "      <td>...</td>\n",
              "      <td>...</td>\n",
              "    </tr>\n",
              "    <tr>\n",
              "      <th>408</th>\n",
              "      <td>0.128561</td>\n",
              "      <td>1.948359</td>\n",
              "      <td>-0.504404</td>\n",
              "      <td>-0.769097</td>\n",
              "      <td>-2.137674</td>\n",
              "      <td>28.1</td>\n",
              "      <td>-0.079403</td>\n",
              "    </tr>\n",
              "    <tr>\n",
              "      <th>410</th>\n",
              "      <td>-1.007272</td>\n",
              "      <td>-0.948840</td>\n",
              "      <td>1.618096</td>\n",
              "      <td>0.315946</td>\n",
              "      <td>0.579803</td>\n",
              "      <td>50.0</td>\n",
              "      <td>1.399143</td>\n",
              "    </tr>\n",
              "    <tr>\n",
              "      <th>411</th>\n",
              "      <td>0.154976</td>\n",
              "      <td>-0.531321</td>\n",
              "      <td>0.910596</td>\n",
              "      <td>0.797969</td>\n",
              "      <td>0.292727</td>\n",
              "      <td>40.6</td>\n",
              "      <td>0.157895</td>\n",
              "    </tr>\n",
              "    <tr>\n",
              "      <th>412</th>\n",
              "      <td>-0.787149</td>\n",
              "      <td>-0.928897</td>\n",
              "      <td>0.203096</td>\n",
              "      <td>-0.430697</td>\n",
              "      <td>0.364496</td>\n",
              "      <td>52.5</td>\n",
              "      <td>1.015816</td>\n",
              "    </tr>\n",
              "    <tr>\n",
              "      <th>413</th>\n",
              "      <td>-0.928028</td>\n",
              "      <td>-0.948840</td>\n",
              "      <td>1.618096</td>\n",
              "      <td>0.315946</td>\n",
              "      <td>0.579803</td>\n",
              "      <td>63.9</td>\n",
              "      <td>0.573165</td>\n",
              "    </tr>\n",
              "  </tbody>\n",
              "</table>\n",
              "<p>371 rows × 7 columns</p>\n",
              "</div>\n",
              "      <button class=\"colab-df-convert\" onclick=\"convertToInteractive('df-c1ebf512-b626-43ea-a2f1-093392e2cbdb')\"\n",
              "              title=\"Convert this dataframe to an interactive table.\"\n",
              "              style=\"display:none;\">\n",
              "        \n",
              "  <svg xmlns=\"http://www.w3.org/2000/svg\" height=\"24px\"viewBox=\"0 0 24 24\"\n",
              "       width=\"24px\">\n",
              "    <path d=\"M0 0h24v24H0V0z\" fill=\"none\"/>\n",
              "    <path d=\"M18.56 5.44l.94 2.06.94-2.06 2.06-.94-2.06-.94-.94-2.06-.94 2.06-2.06.94zm-11 1L8.5 8.5l.94-2.06 2.06-.94-2.06-.94L8.5 2.5l-.94 2.06-2.06.94zm10 10l.94 2.06.94-2.06 2.06-.94-2.06-.94-.94-2.06-.94 2.06-2.06.94z\"/><path d=\"M17.41 7.96l-1.37-1.37c-.4-.4-.92-.59-1.43-.59-.52 0-1.04.2-1.43.59L10.3 9.45l-7.72 7.72c-.78.78-.78 2.05 0 2.83L4 21.41c.39.39.9.59 1.41.59.51 0 1.02-.2 1.41-.59l7.78-7.78 2.81-2.81c.8-.78.8-2.07 0-2.86zM5.41 20L4 18.59l7.72-7.72 1.47 1.35L5.41 20z\"/>\n",
              "  </svg>\n",
              "      </button>\n",
              "      \n",
              "  <style>\n",
              "    .colab-df-container {\n",
              "      display:flex;\n",
              "      flex-wrap:wrap;\n",
              "      gap: 12px;\n",
              "    }\n",
              "\n",
              "    .colab-df-convert {\n",
              "      background-color: #E8F0FE;\n",
              "      border: none;\n",
              "      border-radius: 50%;\n",
              "      cursor: pointer;\n",
              "      display: none;\n",
              "      fill: #1967D2;\n",
              "      height: 32px;\n",
              "      padding: 0 0 0 0;\n",
              "      width: 32px;\n",
              "    }\n",
              "\n",
              "    .colab-df-convert:hover {\n",
              "      background-color: #E2EBFA;\n",
              "      box-shadow: 0px 1px 2px rgba(60, 64, 67, 0.3), 0px 1px 3px 1px rgba(60, 64, 67, 0.15);\n",
              "      fill: #174EA6;\n",
              "    }\n",
              "\n",
              "    [theme=dark] .colab-df-convert {\n",
              "      background-color: #3B4455;\n",
              "      fill: #D2E3FC;\n",
              "    }\n",
              "\n",
              "    [theme=dark] .colab-df-convert:hover {\n",
              "      background-color: #434B5C;\n",
              "      box-shadow: 0px 1px 3px 1px rgba(0, 0, 0, 0.15);\n",
              "      filter: drop-shadow(0px 1px 2px rgba(0, 0, 0, 0.3));\n",
              "      fill: #FFFFFF;\n",
              "    }\n",
              "  </style>\n",
              "\n",
              "      <script>\n",
              "        const buttonEl =\n",
              "          document.querySelector('#df-c1ebf512-b626-43ea-a2f1-093392e2cbdb button.colab-df-convert');\n",
              "        buttonEl.style.display =\n",
              "          google.colab.kernel.accessAllowed ? 'block' : 'none';\n",
              "\n",
              "        async function convertToInteractive(key) {\n",
              "          const element = document.querySelector('#df-c1ebf512-b626-43ea-a2f1-093392e2cbdb');\n",
              "          const dataTable =\n",
              "            await google.colab.kernel.invokeFunction('convertToInteractive',\n",
              "                                                     [key], {});\n",
              "          if (!dataTable) return;\n",
              "\n",
              "          const docLinkHtml = 'Like what you see? Visit the ' +\n",
              "            '<a target=\"_blank\" href=https://colab.research.google.com/notebooks/data_table.ipynb>data table notebook</a>'\n",
              "            + ' to learn more about interactive tables.';\n",
              "          element.innerHTML = '';\n",
              "          dataTable['output_type'] = 'display_data';\n",
              "          await google.colab.output.renderOutput(dataTable, element);\n",
              "          const docLink = document.createElement('div');\n",
              "          docLink.innerHTML = docLinkHtml;\n",
              "          element.appendChild(docLink);\n",
              "        }\n",
              "      </script>\n",
              "    </div>\n",
              "  </div>\n",
              "  "
            ]
          },
          "metadata": {},
          "execution_count": 22
        }
      ]
    },
    {
      "cell_type": "code",
      "source": [],
      "metadata": {
        "id": "E1VEF4IdpBot"
      },
      "execution_count": null,
      "outputs": []
    },
    {
      "cell_type": "code",
      "source": [
        "mu,sigma=df[\"y\"].mean(),df[\"y\"].std()"
      ],
      "metadata": {
        "id": "cwTtsS09pPSW"
      },
      "execution_count": 23,
      "outputs": []
    },
    {
      "cell_type": "code",
      "source": [
        "df=df[(df[\"y\"]>mu - 2*sigma) & (df[\"y\"]< mu + 2*sigma)]"
      ],
      "metadata": {
        "id": "fln1TwFQpPSX"
      },
      "execution_count": 24,
      "outputs": []
    },
    {
      "cell_type": "code",
      "source": [
        "df.reset_index(drop=True,inplace=True)"
      ],
      "metadata": {
        "id": "l58NmxKQp9Kx"
      },
      "execution_count": 25,
      "outputs": []
    },
    {
      "cell_type": "markdown",
      "source": [
        "<b>Approach 1: Converting the price variable into categorical variables by the labeling them by the interval they lie in, and use Classification algorithms like SVM and Naive Bayes</b>"
      ],
      "metadata": {
        "id": "IIZfc6DJ_YPJ"
      }
    },
    {
      "cell_type": "code",
      "source": [
        "for i in range(len(df)):\n",
        "  if df.loc[i,\"y\"]<20:\n",
        "    df.loc[i,\"yc\"]=1\n",
        "  elif df.loc[i,\"y\"]>20 and df.loc[i,\"y\"]<25:\n",
        "    df.loc[i,\"yc\"]=2\n",
        "  elif df.loc[i,\"y\"]>25 and df.loc[i,\"y\"]<30:\n",
        "    df.loc[i,\"yc\"]=3\n",
        "  elif df.loc[i,\"y\"]>30 and df.loc[i,\"y\"]<35:\n",
        "    df.loc[i,\"yc\"]=4\n",
        "  elif df.loc[i,\"y\"]>35 and df.loc[i,\"y\"]<40:\n",
        "    df.loc[i,\"yc\"]=5\n",
        "  elif df.loc[i,\"y\"]>40 and df.loc[i,\"y\"]<45:\n",
        "    df.loc[i,\"yc\"]=6\n",
        "  elif df.loc[i,\"y\"]>45 and df.loc[i,\"y\"]<50:\n",
        "    df.loc[i,\"yc\"]=7\n",
        "  elif df.loc[i,\"y\"]>50 and df.loc[i,\"y\"]<55:\n",
        "    df.loc[i,\"yc\"]=8\n",
        "  elif df.loc[i,\"y\"]>60:\n",
        "    df.loc[i,\"yc\"]=9"
      ],
      "metadata": {
        "colab": {
          "base_uri": "https://localhost:8080/"
        },
        "id": "qekyJXIYpBvE",
        "outputId": "e1b58c69-50cf-4821-a18e-9a5db4da8a5f"
      },
      "execution_count": 26,
      "outputs": [
        {
          "output_type": "stream",
          "name": "stderr",
          "text": [
            "/usr/local/lib/python3.7/dist-packages/pandas/core/indexing.py:1684: SettingWithCopyWarning: \n",
            "A value is trying to be set on a copy of a slice from a DataFrame.\n",
            "Try using .loc[row_indexer,col_indexer] = value instead\n",
            "\n",
            "See the caveats in the documentation: https://pandas.pydata.org/pandas-docs/stable/user_guide/indexing.html#returning-a-view-versus-a-copy\n",
            "  self.obj[key] = infer_fill_value(value)\n",
            "/usr/local/lib/python3.7/dist-packages/pandas/core/indexing.py:1817: SettingWithCopyWarning: \n",
            "A value is trying to be set on a copy of a slice from a DataFrame.\n",
            "Try using .loc[row_indexer,col_indexer] = value instead\n",
            "\n",
            "See the caveats in the documentation: https://pandas.pydata.org/pandas-docs/stable/user_guide/indexing.html#returning-a-view-versus-a-copy\n",
            "  self._setitem_single_column(loc, value, pi)\n"
          ]
        }
      ]
    },
    {
      "cell_type": "code",
      "source": [
        "df=df.dropna()\n",
        "df_y=df[\"yc\"]\n",
        "df_X=df.drop([\"y\",\"yc\"],axis=1)"
      ],
      "metadata": {
        "id": "6hSfSSYrpByb"
      },
      "execution_count": 27,
      "outputs": []
    },
    {
      "cell_type": "code",
      "source": [
        "from sklearn.model_selection import train_test_split\n",
        "X_train,X_test,y_train,y_test=train_test_split(df_X,df_y,test_size=0.2)"
      ],
      "metadata": {
        "id": "3ZEYexHAqy10"
      },
      "execution_count": 28,
      "outputs": []
    },
    {
      "cell_type": "code",
      "source": [
        "#Using SVM\n",
        "from sklearn.svm import SVC\n",
        "svm=SVC()"
      ],
      "metadata": {
        "id": "3y1egP_9qy47"
      },
      "execution_count": 29,
      "outputs": []
    },
    {
      "cell_type": "code",
      "source": [
        "svm.fit(X_train,y_train)"
      ],
      "metadata": {
        "colab": {
          "base_uri": "https://localhost:8080/"
        },
        "id": "J1WCuuPtqy76",
        "outputId": "f7ffedf8-52d7-411f-96d4-504541fc22b2"
      },
      "execution_count": 30,
      "outputs": [
        {
          "output_type": "execute_result",
          "data": {
            "text/plain": [
              "SVC()"
            ]
          },
          "metadata": {},
          "execution_count": 30
        }
      ]
    },
    {
      "cell_type": "code",
      "source": [
        "y_pred=svm.predict(X_test)"
      ],
      "metadata": {
        "id": "ttRP1iWAqy-V"
      },
      "execution_count": 31,
      "outputs": []
    },
    {
      "cell_type": "code",
      "source": [
        "from sklearn.metrics import accuracy_score\n",
        "print(accuracy_score(y_test,y_pred))"
      ],
      "metadata": {
        "colab": {
          "base_uri": "https://localhost:8080/"
        },
        "id": "X_aB-EamqzBN",
        "outputId": "02f59972-004f-46c1-bfe1-8a6c5b8162ec"
      },
      "execution_count": 32,
      "outputs": [
        {
          "output_type": "stream",
          "name": "stdout",
          "text": [
            "0.2835820895522388\n"
          ]
        }
      ]
    },
    {
      "cell_type": "markdown",
      "source": [
        "Very poor accuracy because converting the numerical attributes into categorical do not help at all"
      ],
      "metadata": {
        "id": "ZR4YXZ-Q_yXp"
      }
    },
    {
      "cell_type": "code",
      "source": [
        "from sklearn.naive_bayes import GaussianNB\n",
        "gnb=GaussianNB()"
      ],
      "metadata": {
        "id": "BhOr2Y83qzEo"
      },
      "execution_count": 33,
      "outputs": []
    },
    {
      "cell_type": "code",
      "source": [
        "gnb.fit(X_train,y_train)"
      ],
      "metadata": {
        "colab": {
          "base_uri": "https://localhost:8080/"
        },
        "id": "b1ePQ33awyez",
        "outputId": "5e91f04a-53fa-43c9-be0b-7ffb71779f2a"
      },
      "execution_count": 34,
      "outputs": [
        {
          "output_type": "execute_result",
          "data": {
            "text/plain": [
              "GaussianNB()"
            ]
          },
          "metadata": {},
          "execution_count": 34
        }
      ]
    },
    {
      "cell_type": "code",
      "source": [
        "y_pred=gnb.predict(X_test)"
      ],
      "metadata": {
        "id": "Q15D_T-swyhr"
      },
      "execution_count": 35,
      "outputs": []
    },
    {
      "cell_type": "code",
      "source": [
        "print(accuracy_score(y_test,y_pred))"
      ],
      "metadata": {
        "colab": {
          "base_uri": "https://localhost:8080/"
        },
        "id": "PP2eyh_jwylN",
        "outputId": "a7b242a2-220e-4d14-bfd3-aa7af431caac"
      },
      "execution_count": 36,
      "outputs": [
        {
          "output_type": "stream",
          "name": "stdout",
          "text": [
            "0.23880597014925373\n"
          ]
        }
      ]
    },
    {
      "cell_type": "markdown",
      "source": [
        "Same reason as SVM approach"
      ],
      "metadata": {
        "id": "Z8ncf57K_6-I"
      }
    },
    {
      "cell_type": "code",
      "source": [
        "df['y']=(df['y']-df['y'].mean())/df['y'].std()"
      ],
      "metadata": {
        "id": "_UEhADIv3rCk"
      },
      "execution_count": 37,
      "outputs": []
    },
    {
      "cell_type": "code",
      "source": [
        "df"
      ],
      "metadata": {
        "colab": {
          "base_uri": "https://localhost:8080/",
          "height": 424
        },
        "id": "_dxHadfz34wg",
        "outputId": "b0627293-4c9e-441c-d91c-b4aac4d5e753"
      },
      "execution_count": 38,
      "outputs": [
        {
          "output_type": "execute_result",
          "data": {
            "text/plain": [
              "           x1        x2        x3        x4        x5         y        x6   yc\n",
              "0    1.317224 -0.956589  1.971846  1.166864  0.326396 -0.010937  0.815026  5.0\n",
              "1    0.216610 -0.648547  1.618096  0.907162  0.261715  0.414616  1.225733  6.0\n",
              "2   -0.329294 -0.293721  0.203096  1.607571  0.651572  0.919342 -1.208086  7.0\n",
              "3   -0.329294 -0.293721  0.203096  1.607571  0.651572  1.661585 -0.439912  8.0\n",
              "4   -1.060102 -0.531878  0.203096  0.811741  0.522210  0.503685  0.048373  6.0\n",
              "..        ...       ...       ...       ...       ...       ...       ...  ...\n",
              "354 -1.042492  2.272424 -1.565653 -1.580665  2.045309 -1.554803  0.924548  2.0\n",
              "355  0.128561  1.948359 -0.504404 -0.769097 -2.137674 -0.980802 -0.079403  3.0\n",
              "357  0.154976 -0.531321  0.910596  0.797969  0.292727  0.256271  0.157895  6.0\n",
              "358 -0.787149 -0.928897  0.203096 -0.430697  0.364496  1.433964  1.015816  8.0\n",
              "359 -0.928028 -0.948840  1.618096  0.315946  0.579803  2.562174  0.573165  9.0\n",
              "\n",
              "[333 rows x 8 columns]"
            ],
            "text/html": [
              "\n",
              "  <div id=\"df-02eaff57-c34e-420b-9696-d0622016644f\">\n",
              "    <div class=\"colab-df-container\">\n",
              "      <div>\n",
              "<style scoped>\n",
              "    .dataframe tbody tr th:only-of-type {\n",
              "        vertical-align: middle;\n",
              "    }\n",
              "\n",
              "    .dataframe tbody tr th {\n",
              "        vertical-align: top;\n",
              "    }\n",
              "\n",
              "    .dataframe thead th {\n",
              "        text-align: right;\n",
              "    }\n",
              "</style>\n",
              "<table border=\"1\" class=\"dataframe\">\n",
              "  <thead>\n",
              "    <tr style=\"text-align: right;\">\n",
              "      <th></th>\n",
              "      <th>x1</th>\n",
              "      <th>x2</th>\n",
              "      <th>x3</th>\n",
              "      <th>x4</th>\n",
              "      <th>x5</th>\n",
              "      <th>y</th>\n",
              "      <th>x6</th>\n",
              "      <th>yc</th>\n",
              "    </tr>\n",
              "  </thead>\n",
              "  <tbody>\n",
              "    <tr>\n",
              "      <th>0</th>\n",
              "      <td>1.317224</td>\n",
              "      <td>-0.956589</td>\n",
              "      <td>1.971846</td>\n",
              "      <td>1.166864</td>\n",
              "      <td>0.326396</td>\n",
              "      <td>-0.010937</td>\n",
              "      <td>0.815026</td>\n",
              "      <td>5.0</td>\n",
              "    </tr>\n",
              "    <tr>\n",
              "      <th>1</th>\n",
              "      <td>0.216610</td>\n",
              "      <td>-0.648547</td>\n",
              "      <td>1.618096</td>\n",
              "      <td>0.907162</td>\n",
              "      <td>0.261715</td>\n",
              "      <td>0.414616</td>\n",
              "      <td>1.225733</td>\n",
              "      <td>6.0</td>\n",
              "    </tr>\n",
              "    <tr>\n",
              "      <th>2</th>\n",
              "      <td>-0.329294</td>\n",
              "      <td>-0.293721</td>\n",
              "      <td>0.203096</td>\n",
              "      <td>1.607571</td>\n",
              "      <td>0.651572</td>\n",
              "      <td>0.919342</td>\n",
              "      <td>-1.208086</td>\n",
              "      <td>7.0</td>\n",
              "    </tr>\n",
              "    <tr>\n",
              "      <th>3</th>\n",
              "      <td>-0.329294</td>\n",
              "      <td>-0.293721</td>\n",
              "      <td>0.203096</td>\n",
              "      <td>1.607571</td>\n",
              "      <td>0.651572</td>\n",
              "      <td>1.661585</td>\n",
              "      <td>-0.439912</td>\n",
              "      <td>8.0</td>\n",
              "    </tr>\n",
              "    <tr>\n",
              "      <th>4</th>\n",
              "      <td>-1.060102</td>\n",
              "      <td>-0.531878</td>\n",
              "      <td>0.203096</td>\n",
              "      <td>0.811741</td>\n",
              "      <td>0.522210</td>\n",
              "      <td>0.503685</td>\n",
              "      <td>0.048373</td>\n",
              "      <td>6.0</td>\n",
              "    </tr>\n",
              "    <tr>\n",
              "      <th>...</th>\n",
              "      <td>...</td>\n",
              "      <td>...</td>\n",
              "      <td>...</td>\n",
              "      <td>...</td>\n",
              "      <td>...</td>\n",
              "      <td>...</td>\n",
              "      <td>...</td>\n",
              "      <td>...</td>\n",
              "    </tr>\n",
              "    <tr>\n",
              "      <th>354</th>\n",
              "      <td>-1.042492</td>\n",
              "      <td>2.272424</td>\n",
              "      <td>-1.565653</td>\n",
              "      <td>-1.580665</td>\n",
              "      <td>2.045309</td>\n",
              "      <td>-1.554803</td>\n",
              "      <td>0.924548</td>\n",
              "      <td>2.0</td>\n",
              "    </tr>\n",
              "    <tr>\n",
              "      <th>355</th>\n",
              "      <td>0.128561</td>\n",
              "      <td>1.948359</td>\n",
              "      <td>-0.504404</td>\n",
              "      <td>-0.769097</td>\n",
              "      <td>-2.137674</td>\n",
              "      <td>-0.980802</td>\n",
              "      <td>-0.079403</td>\n",
              "      <td>3.0</td>\n",
              "    </tr>\n",
              "    <tr>\n",
              "      <th>357</th>\n",
              "      <td>0.154976</td>\n",
              "      <td>-0.531321</td>\n",
              "      <td>0.910596</td>\n",
              "      <td>0.797969</td>\n",
              "      <td>0.292727</td>\n",
              "      <td>0.256271</td>\n",
              "      <td>0.157895</td>\n",
              "      <td>6.0</td>\n",
              "    </tr>\n",
              "    <tr>\n",
              "      <th>358</th>\n",
              "      <td>-0.787149</td>\n",
              "      <td>-0.928897</td>\n",
              "      <td>0.203096</td>\n",
              "      <td>-0.430697</td>\n",
              "      <td>0.364496</td>\n",
              "      <td>1.433964</td>\n",
              "      <td>1.015816</td>\n",
              "      <td>8.0</td>\n",
              "    </tr>\n",
              "    <tr>\n",
              "      <th>359</th>\n",
              "      <td>-0.928028</td>\n",
              "      <td>-0.948840</td>\n",
              "      <td>1.618096</td>\n",
              "      <td>0.315946</td>\n",
              "      <td>0.579803</td>\n",
              "      <td>2.562174</td>\n",
              "      <td>0.573165</td>\n",
              "      <td>9.0</td>\n",
              "    </tr>\n",
              "  </tbody>\n",
              "</table>\n",
              "<p>333 rows × 8 columns</p>\n",
              "</div>\n",
              "      <button class=\"colab-df-convert\" onclick=\"convertToInteractive('df-02eaff57-c34e-420b-9696-d0622016644f')\"\n",
              "              title=\"Convert this dataframe to an interactive table.\"\n",
              "              style=\"display:none;\">\n",
              "        \n",
              "  <svg xmlns=\"http://www.w3.org/2000/svg\" height=\"24px\"viewBox=\"0 0 24 24\"\n",
              "       width=\"24px\">\n",
              "    <path d=\"M0 0h24v24H0V0z\" fill=\"none\"/>\n",
              "    <path d=\"M18.56 5.44l.94 2.06.94-2.06 2.06-.94-2.06-.94-.94-2.06-.94 2.06-2.06.94zm-11 1L8.5 8.5l.94-2.06 2.06-.94-2.06-.94L8.5 2.5l-.94 2.06-2.06.94zm10 10l.94 2.06.94-2.06 2.06-.94-2.06-.94-.94-2.06-.94 2.06-2.06.94z\"/><path d=\"M17.41 7.96l-1.37-1.37c-.4-.4-.92-.59-1.43-.59-.52 0-1.04.2-1.43.59L10.3 9.45l-7.72 7.72c-.78.78-.78 2.05 0 2.83L4 21.41c.39.39.9.59 1.41.59.51 0 1.02-.2 1.41-.59l7.78-7.78 2.81-2.81c.8-.78.8-2.07 0-2.86zM5.41 20L4 18.59l7.72-7.72 1.47 1.35L5.41 20z\"/>\n",
              "  </svg>\n",
              "      </button>\n",
              "      \n",
              "  <style>\n",
              "    .colab-df-container {\n",
              "      display:flex;\n",
              "      flex-wrap:wrap;\n",
              "      gap: 12px;\n",
              "    }\n",
              "\n",
              "    .colab-df-convert {\n",
              "      background-color: #E8F0FE;\n",
              "      border: none;\n",
              "      border-radius: 50%;\n",
              "      cursor: pointer;\n",
              "      display: none;\n",
              "      fill: #1967D2;\n",
              "      height: 32px;\n",
              "      padding: 0 0 0 0;\n",
              "      width: 32px;\n",
              "    }\n",
              "\n",
              "    .colab-df-convert:hover {\n",
              "      background-color: #E2EBFA;\n",
              "      box-shadow: 0px 1px 2px rgba(60, 64, 67, 0.3), 0px 1px 3px 1px rgba(60, 64, 67, 0.15);\n",
              "      fill: #174EA6;\n",
              "    }\n",
              "\n",
              "    [theme=dark] .colab-df-convert {\n",
              "      background-color: #3B4455;\n",
              "      fill: #D2E3FC;\n",
              "    }\n",
              "\n",
              "    [theme=dark] .colab-df-convert:hover {\n",
              "      background-color: #434B5C;\n",
              "      box-shadow: 0px 1px 3px 1px rgba(0, 0, 0, 0.15);\n",
              "      filter: drop-shadow(0px 1px 2px rgba(0, 0, 0, 0.3));\n",
              "      fill: #FFFFFF;\n",
              "    }\n",
              "  </style>\n",
              "\n",
              "      <script>\n",
              "        const buttonEl =\n",
              "          document.querySelector('#df-02eaff57-c34e-420b-9696-d0622016644f button.colab-df-convert');\n",
              "        buttonEl.style.display =\n",
              "          google.colab.kernel.accessAllowed ? 'block' : 'none';\n",
              "\n",
              "        async function convertToInteractive(key) {\n",
              "          const element = document.querySelector('#df-02eaff57-c34e-420b-9696-d0622016644f');\n",
              "          const dataTable =\n",
              "            await google.colab.kernel.invokeFunction('convertToInteractive',\n",
              "                                                     [key], {});\n",
              "          if (!dataTable) return;\n",
              "\n",
              "          const docLinkHtml = 'Like what you see? Visit the ' +\n",
              "            '<a target=\"_blank\" href=https://colab.research.google.com/notebooks/data_table.ipynb>data table notebook</a>'\n",
              "            + ' to learn more about interactive tables.';\n",
              "          element.innerHTML = '';\n",
              "          dataTable['output_type'] = 'display_data';\n",
              "          await google.colab.output.renderOutput(dataTable, element);\n",
              "          const docLink = document.createElement('div');\n",
              "          docLink.innerHTML = docLinkHtml;\n",
              "          element.appendChild(docLink);\n",
              "        }\n",
              "      </script>\n",
              "    </div>\n",
              "  </div>\n",
              "  "
            ]
          },
          "metadata": {},
          "execution_count": 38
        }
      ]
    },
    {
      "cell_type": "code",
      "source": [
        "y=df['y']\n",
        "X=df.drop(['y'],axis=1)"
      ],
      "metadata": {
        "id": "ItByCzkD51oQ"
      },
      "execution_count": 43,
      "outputs": []
    },
    {
      "cell_type": "markdown",
      "source": [
        "<b>Approach 2: Using an Artificial Neural Network to learn the price</b>"
      ],
      "metadata": {
        "id": "uWfahWZZAAfN"
      }
    },
    {
      "cell_type": "code",
      "source": [
        "from keras.models import Sequential\n",
        "from keras.layers import Dense"
      ],
      "metadata": {
        "id": "yCOveR_gxK64"
      },
      "execution_count": 39,
      "outputs": []
    },
    {
      "cell_type": "code",
      "source": [
        "#Building the network\n",
        "model=Sequential([\n",
        "    Dense(30,activation='relu'),\n",
        "    Dense(30,activation='relu'),\n",
        "    Dense(1,activation = 'linear')\n",
        "])"
      ],
      "metadata": {
        "id": "lRj6DhAdxK9n"
      },
      "execution_count": 45,
      "outputs": []
    },
    {
      "cell_type": "code",
      "source": [
        "model.compile(loss='mse',\n",
        "              optimizer='SGD')"
      ],
      "metadata": {
        "id": "pPrkVN1txLA0"
      },
      "execution_count": 46,
      "outputs": []
    },
    {
      "cell_type": "code",
      "source": [
        "#Training the Neural Network\n",
        "model.fit(X,y,epochs=100)"
      ],
      "metadata": {
        "id": "_0CJ6WiTxLGZ",
        "colab": {
          "base_uri": "https://localhost:8080/"
        },
        "outputId": "c435f38d-2fbb-45ed-c0e9-48465cc701b3"
      },
      "execution_count": 47,
      "outputs": [
        {
          "output_type": "stream",
          "name": "stdout",
          "text": [
            "Epoch 1/100\n",
            "11/11 [==============================] - 0s 2ms/step - loss: 0.6658\n",
            "Epoch 2/100\n",
            "11/11 [==============================] - 0s 2ms/step - loss: 0.3838\n",
            "Epoch 3/100\n",
            "11/11 [==============================] - 0s 2ms/step - loss: 0.3193\n",
            "Epoch 4/100\n",
            "11/11 [==============================] - 0s 2ms/step - loss: 0.2815\n",
            "Epoch 5/100\n",
            "11/11 [==============================] - 0s 2ms/step - loss: 0.2567\n",
            "Epoch 6/100\n",
            "11/11 [==============================] - 0s 3ms/step - loss: 0.2376\n",
            "Epoch 7/100\n",
            "11/11 [==============================] - 0s 2ms/step - loss: 0.2198\n",
            "Epoch 8/100\n",
            "11/11 [==============================] - 0s 3ms/step - loss: 0.2058\n",
            "Epoch 9/100\n",
            "11/11 [==============================] - 0s 3ms/step - loss: 0.2028\n",
            "Epoch 10/100\n",
            "11/11 [==============================] - 0s 2ms/step - loss: 0.1877\n",
            "Epoch 11/100\n",
            "11/11 [==============================] - 0s 2ms/step - loss: 0.1778\n",
            "Epoch 12/100\n",
            "11/11 [==============================] - 0s 2ms/step - loss: 0.1795\n",
            "Epoch 13/100\n",
            "11/11 [==============================] - 0s 2ms/step - loss: 0.1639\n",
            "Epoch 14/100\n",
            "11/11 [==============================] - 0s 2ms/step - loss: 0.1631\n",
            "Epoch 15/100\n",
            "11/11 [==============================] - 0s 2ms/step - loss: 0.1542\n",
            "Epoch 16/100\n",
            "11/11 [==============================] - 0s 2ms/step - loss: 0.1432\n",
            "Epoch 17/100\n",
            "11/11 [==============================] - 0s 2ms/step - loss: 0.1483\n",
            "Epoch 18/100\n",
            "11/11 [==============================] - 0s 2ms/step - loss: 0.1418\n",
            "Epoch 19/100\n",
            "11/11 [==============================] - 0s 2ms/step - loss: 0.1363\n",
            "Epoch 20/100\n",
            "11/11 [==============================] - 0s 2ms/step - loss: 0.1305\n",
            "Epoch 21/100\n",
            "11/11 [==============================] - 0s 2ms/step - loss: 0.1343\n",
            "Epoch 22/100\n",
            "11/11 [==============================] - 0s 2ms/step - loss: 0.1213\n",
            "Epoch 23/100\n",
            "11/11 [==============================] - 0s 2ms/step - loss: 0.1194\n",
            "Epoch 24/100\n",
            "11/11 [==============================] - 0s 2ms/step - loss: 0.1194\n",
            "Epoch 25/100\n",
            "11/11 [==============================] - 0s 2ms/step - loss: 0.1273\n",
            "Epoch 26/100\n",
            "11/11 [==============================] - 0s 2ms/step - loss: 0.1049\n",
            "Epoch 27/100\n",
            "11/11 [==============================] - 0s 2ms/step - loss: 0.1018\n",
            "Epoch 28/100\n",
            "11/11 [==============================] - 0s 2ms/step - loss: 0.1046\n",
            "Epoch 29/100\n",
            "11/11 [==============================] - 0s 2ms/step - loss: 0.0973\n",
            "Epoch 30/100\n",
            "11/11 [==============================] - 0s 2ms/step - loss: 0.0953\n",
            "Epoch 31/100\n",
            "11/11 [==============================] - 0s 2ms/step - loss: 0.0950\n",
            "Epoch 32/100\n",
            "11/11 [==============================] - 0s 2ms/step - loss: 0.0869\n",
            "Epoch 33/100\n",
            "11/11 [==============================] - 0s 2ms/step - loss: 0.0835\n",
            "Epoch 34/100\n",
            "11/11 [==============================] - 0s 2ms/step - loss: 0.0995\n",
            "Epoch 35/100\n",
            "11/11 [==============================] - 0s 3ms/step - loss: 0.0810\n",
            "Epoch 36/100\n",
            "11/11 [==============================] - 0s 2ms/step - loss: 0.0754\n",
            "Epoch 37/100\n",
            "11/11 [==============================] - 0s 2ms/step - loss: 0.0844\n",
            "Epoch 38/100\n",
            "11/11 [==============================] - 0s 2ms/step - loss: 0.0822\n",
            "Epoch 39/100\n",
            "11/11 [==============================] - 0s 2ms/step - loss: 0.0751\n",
            "Epoch 40/100\n",
            "11/11 [==============================] - 0s 2ms/step - loss: 0.0720\n",
            "Epoch 41/100\n",
            "11/11 [==============================] - 0s 2ms/step - loss: 0.0678\n",
            "Epoch 42/100\n",
            "11/11 [==============================] - 0s 2ms/step - loss: 0.0705\n",
            "Epoch 43/100\n",
            "11/11 [==============================] - 0s 2ms/step - loss: 0.0681\n",
            "Epoch 44/100\n",
            "11/11 [==============================] - 0s 2ms/step - loss: 0.0612\n",
            "Epoch 45/100\n",
            "11/11 [==============================] - 0s 2ms/step - loss: 0.0629\n",
            "Epoch 46/100\n",
            "11/11 [==============================] - 0s 3ms/step - loss: 0.0590\n",
            "Epoch 47/100\n",
            "11/11 [==============================] - 0s 2ms/step - loss: 0.0626\n",
            "Epoch 48/100\n",
            "11/11 [==============================] - 0s 2ms/step - loss: 0.0652\n",
            "Epoch 49/100\n",
            "11/11 [==============================] - 0s 2ms/step - loss: 0.0646\n",
            "Epoch 50/100\n",
            "11/11 [==============================] - 0s 2ms/step - loss: 0.0555\n",
            "Epoch 51/100\n",
            "11/11 [==============================] - 0s 2ms/step - loss: 0.0519\n",
            "Epoch 52/100\n",
            "11/11 [==============================] - 0s 2ms/step - loss: 0.0517\n",
            "Epoch 53/100\n",
            "11/11 [==============================] - 0s 2ms/step - loss: 0.0476\n",
            "Epoch 54/100\n",
            "11/11 [==============================] - 0s 2ms/step - loss: 0.0525\n",
            "Epoch 55/100\n",
            "11/11 [==============================] - 0s 2ms/step - loss: 0.0461\n",
            "Epoch 56/100\n",
            "11/11 [==============================] - 0s 2ms/step - loss: 0.0569\n",
            "Epoch 57/100\n",
            "11/11 [==============================] - 0s 2ms/step - loss: 0.0524\n",
            "Epoch 58/100\n",
            "11/11 [==============================] - 0s 2ms/step - loss: 0.0877\n",
            "Epoch 59/100\n",
            "11/11 [==============================] - 0s 2ms/step - loss: 0.0516\n",
            "Epoch 60/100\n",
            "11/11 [==============================] - 0s 2ms/step - loss: 0.0539\n",
            "Epoch 61/100\n",
            "11/11 [==============================] - 0s 2ms/step - loss: 0.0642\n",
            "Epoch 62/100\n",
            "11/11 [==============================] - 0s 2ms/step - loss: 0.0464\n",
            "Epoch 63/100\n",
            "11/11 [==============================] - 0s 2ms/step - loss: 0.0505\n",
            "Epoch 64/100\n",
            "11/11 [==============================] - 0s 2ms/step - loss: 0.0456\n",
            "Epoch 65/100\n",
            "11/11 [==============================] - 0s 2ms/step - loss: 0.0401\n",
            "Epoch 66/100\n",
            "11/11 [==============================] - 0s 3ms/step - loss: 0.0410\n",
            "Epoch 67/100\n",
            "11/11 [==============================] - 0s 2ms/step - loss: 0.0534\n",
            "Epoch 68/100\n",
            "11/11 [==============================] - 0s 2ms/step - loss: 0.0739\n",
            "Epoch 69/100\n",
            "11/11 [==============================] - 0s 2ms/step - loss: 0.0781\n",
            "Epoch 70/100\n",
            "11/11 [==============================] - 0s 2ms/step - loss: 0.0431\n",
            "Epoch 71/100\n",
            "11/11 [==============================] - 0s 2ms/step - loss: 0.0450\n",
            "Epoch 72/100\n",
            "11/11 [==============================] - 0s 2ms/step - loss: 0.0674\n",
            "Epoch 73/100\n",
            "11/11 [==============================] - 0s 2ms/step - loss: 0.0485\n",
            "Epoch 74/100\n",
            "11/11 [==============================] - 0s 2ms/step - loss: 0.0367\n",
            "Epoch 75/100\n",
            "11/11 [==============================] - 0s 2ms/step - loss: 0.0417\n",
            "Epoch 76/100\n",
            "11/11 [==============================] - 0s 2ms/step - loss: 0.0391\n",
            "Epoch 77/100\n",
            "11/11 [==============================] - 0s 2ms/step - loss: 0.0493\n",
            "Epoch 78/100\n",
            "11/11 [==============================] - 0s 2ms/step - loss: 0.0384\n",
            "Epoch 79/100\n",
            "11/11 [==============================] - 0s 2ms/step - loss: 0.0362\n",
            "Epoch 80/100\n",
            "11/11 [==============================] - 0s 2ms/step - loss: 0.0365\n",
            "Epoch 81/100\n",
            "11/11 [==============================] - 0s 3ms/step - loss: 0.0584\n",
            "Epoch 82/100\n",
            "11/11 [==============================] - 0s 2ms/step - loss: 0.0533\n",
            "Epoch 83/100\n",
            "11/11 [==============================] - 0s 2ms/step - loss: 0.0361\n",
            "Epoch 84/100\n",
            "11/11 [==============================] - 0s 2ms/step - loss: 0.0339\n",
            "Epoch 85/100\n",
            "11/11 [==============================] - 0s 2ms/step - loss: 0.0337\n",
            "Epoch 86/100\n",
            "11/11 [==============================] - 0s 2ms/step - loss: 0.0399\n",
            "Epoch 87/100\n",
            "11/11 [==============================] - 0s 2ms/step - loss: 0.0636\n",
            "Epoch 88/100\n",
            "11/11 [==============================] - 0s 2ms/step - loss: 0.0402\n",
            "Epoch 89/100\n",
            "11/11 [==============================] - 0s 2ms/step - loss: 0.0420\n",
            "Epoch 90/100\n",
            "11/11 [==============================] - 0s 2ms/step - loss: 0.0310\n",
            "Epoch 91/100\n",
            "11/11 [==============================] - 0s 2ms/step - loss: 0.0365\n",
            "Epoch 92/100\n",
            "11/11 [==============================] - 0s 2ms/step - loss: 0.0484\n",
            "Epoch 93/100\n",
            "11/11 [==============================] - 0s 2ms/step - loss: 0.0377\n",
            "Epoch 94/100\n",
            "11/11 [==============================] - 0s 2ms/step - loss: 0.0320\n",
            "Epoch 95/100\n",
            "11/11 [==============================] - 0s 2ms/step - loss: 0.0537\n",
            "Epoch 96/100\n",
            "11/11 [==============================] - 0s 3ms/step - loss: 0.0380\n",
            "Epoch 97/100\n",
            "11/11 [==============================] - 0s 2ms/step - loss: 0.0332\n",
            "Epoch 98/100\n",
            "11/11 [==============================] - 0s 2ms/step - loss: 0.0446\n",
            "Epoch 99/100\n",
            "11/11 [==============================] - 0s 2ms/step - loss: 0.0523\n",
            "Epoch 100/100\n",
            "11/11 [==============================] - 0s 2ms/step - loss: 0.0413\n"
          ]
        },
        {
          "output_type": "execute_result",
          "data": {
            "text/plain": [
              "<keras.callbacks.History at 0x7ff5a54d6b10>"
            ]
          },
          "metadata": {},
          "execution_count": 47
        }
      ]
    },
    {
      "cell_type": "markdown",
      "source": [
        "The loss value is very less, so we can say that this approach is a good idea. So, we can use this model to predict the price."
      ],
      "metadata": {
        "id": "8oZr7RSkAZlp"
      }
    },
    {
      "cell_type": "markdown",
      "source": [
        "<b>Approach 3:Using Linear Regression</b>"
      ],
      "metadata": {
        "id": "7p_RlGh7Ak0q"
      }
    },
    {
      "cell_type": "code",
      "source": [
        "#Using Simple Linear Regression\n",
        "from sklearn.linear_model import LinearRegression\n",
        "reg = LinearRegression().fit(X, y)\n",
        "reg.score(X, y)"
      ],
      "metadata": {
        "colab": {
          "base_uri": "https://localhost:8080/"
        },
        "id": "2rQSDFOM5sUm",
        "outputId": "2c8ad902-9071-4b92-b645-da053477210a"
      },
      "execution_count": 48,
      "outputs": [
        {
          "output_type": "execute_result",
          "data": {
            "text/plain": [
              "0.9763918184601871"
            ]
          },
          "metadata": {},
          "execution_count": 48
        }
      ]
    },
    {
      "cell_type": "markdown",
      "source": [
        "The result given by the Linear Regression model is the best. So this model should be used to predict the house prices."
      ],
      "metadata": {
        "id": "YAoknQ4AAxQU"
      }
    },
    {
      "cell_type": "code",
      "source": [],
      "metadata": {
        "id": "26EuQAzwA4K_"
      },
      "execution_count": null,
      "outputs": []
    }
  ]
}